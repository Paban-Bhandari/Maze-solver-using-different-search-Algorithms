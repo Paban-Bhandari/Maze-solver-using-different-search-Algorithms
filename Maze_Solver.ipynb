{
 "cells": [
  {
   "cell_type": "code",
   "execution_count": 2,
   "metadata": {},
   "outputs": [],
   "source": [
    "import heapq\n",
    "from collections import deque\n",
    "import matplotlib.pyplot as plt\n",
    "import numpy as np\n",
    "import ipywidgets as widgets\n",
    "from IPython.display import display"
   ]
  },
  {
   "cell_type": "code",
   "execution_count": 3,
   "metadata": {},
   "outputs": [],
   "source": [
    "def get_neighbors(maze, node):\n",
    "    \"\"\"Get valid neighboring cells that can be traversed.\"\"\"\n",
    "    neighbors = []\n",
    "    directions = [(-1, 0), (1, 0), (0, -1), (0, 1)]  # Up, Down, Left, Right\n",
    "    for direction in directions:\n",
    "        neighbor = (node[0] + direction[0], node[1] + direction[1])\n",
    "        if 0 <= neighbor[0] < len(maze) and 0 <= neighbor[1] < len(maze[0]) and maze[neighbor[0]][neighbor[1]] == 0:\n",
    "            neighbors.append(neighbor)\n",
    "    return neighbors\n",
    "\n",
    "def manhattan_distance(a, b):\n",
    "    \"\"\"Calculate Manhattan distance between two points a and b.\"\"\"\n",
    "    return abs(a[0] - b[0]) + abs(a[1] - b[1])\n"
   ]
  },
  {
   "cell_type": "code",
   "execution_count": 4,
   "metadata": {},
   "outputs": [],
   "source": [
    "def dfs(maze, start, goal):\n",
    "    \"\"\"Depth-First Search (DFS) algorithm.\"\"\"\n",
    "    stack = [(start, [start])]\n",
    "    visited = set()\n",
    "    while stack:\n",
    "        current, path = stack.pop()\n",
    "        if current == goal:\n",
    "            return path\n",
    "        if current in visited:\n",
    "            continue\n",
    "        visited.add(current)\n",
    "        for neighbor in get_neighbors(maze, current):\n",
    "            stack.append((neighbor, path + [neighbor]))\n",
    "    return None\n",
    "\n",
    "def bfs(maze, start, goal):\n",
    "    \"\"\"Breadth-First Search (BFS) algorithm.\"\"\"\n",
    "    queue = deque([(start, [start])])\n",
    "    visited = set()\n",
    "    while queue:\n",
    "        current, path = queue.popleft()\n",
    "        if current == goal:\n",
    "            return path\n",
    "        if current in visited:\n",
    "            continue\n",
    "        visited.add(current)\n",
    "        for neighbor in get_neighbors(maze, current):\n",
    "            queue.append((neighbor, path + [neighbor]))\n",
    "    return None\n",
    "\n",
    "def ucs(maze, start, goal):\n",
    "    \"\"\"Uniform Cost Search (UCS) algorithm.\"\"\"\n",
    "    queue = [(0, start, [start])]\n",
    "    visited = set()\n",
    "    while queue:\n",
    "        cost, current, path = heapq.heappop(queue)\n",
    "        if current == goal:\n",
    "            return path\n",
    "        if current in visited:\n",
    "            continue\n",
    "        visited.add(current)\n",
    "        for neighbor in get_neighbors(maze, current):\n",
    "            heapq.heappush(queue, (cost + 1, neighbor, path + [neighbor]))\n",
    "    return None\n",
    "\n",
    "def a_star(maze, start, goal):\n",
    "    \"\"\"A* Search algorithm.\"\"\"\n",
    "    queue = [(0, start, [start])]\n",
    "    visited = set()\n",
    "    while queue:\n",
    "        cost, current, path = heapq.heappop(queue)\n",
    "        if current == goal:\n",
    "            return path\n",
    "        if current in visited:\n",
    "            continue\n",
    "        visited.add(current)\n",
    "        for neighbor in get_neighbors(maze, current):\n",
    "            heapq.heappush(queue, (cost + manhattan_distance(neighbor, goal), neighbor, path + [neighbor]))\n",
    "    return None\n",
    "\n",
    "def best_first_search(maze, start, goal):\n",
    "    \"\"\"Best-First Search algorithm.\"\"\"\n",
    "    queue = [(manhattan_distance(start, goal), start, [start])]\n",
    "    visited = set()\n",
    "    while queue:\n",
    "        _, current, path = heapq.heappop(queue)\n",
    "        if current == goal:\n",
    "            return path\n",
    "        if current in visited:\n",
    "            continue\n",
    "        visited.add(current)\n",
    "        for neighbor in get_neighbors(maze, current):\n",
    "            heapq.heappush(queue, (manhattan_distance(neighbor, goal), neighbor, path + [neighbor]))\n",
    "    return None\n"
   ]
  },
  {
   "cell_type": "code",
   "execution_count": 5,
   "metadata": {},
   "outputs": [],
   "source": [
    "def get_maze_input():\n",
    "    \"\"\"creating a simple maze\"\"\"\n",
    "    return [\n",
    "        [0, 1, 0, 0, 0, 1, 0, 0, 0, 0],\n",
    "        [0, 1, 0, 1, 0, 1, 0, 1, 1, 0],\n",
    "        [0, 0, 0, 1, 0, 0, 0, 1, 0, 0],\n",
    "        [0, 1, 1, 1, 1, 1, 0, 1, 0, 1],\n",
    "        [0, 0, 0, 0, 0, 0, 0, 1, 0, 0],\n",
    "        [1, 1, 1, 1, 1, 1, 0, 1, 1, 0],\n",
    "        [0, 0, 0, 0, 0, 0, 0, 0, 0, 0],\n",
    "        [0, 1, 1, 1, 1, 1, 1, 1, 1, 0],\n",
    "        [0, 0, 0, 0, 0, 0, 0, 0, 0, 0],\n",
    "        [0, 1, 1, 1, 1, 1, 1, 1, 1, 0]\n",
    "    ]\n",
    "\n",
    "def get_start_goal_positions(maze):\n",
    "    \"\"\"Get start and goal positions. Ensure they are valid.\"\"\"\n",
    "    start = (0, 0)\n",
    "    goal = (9, 9)\n",
    "    \n",
    "    if maze[start[0]][start[1]] != 0 or maze[goal[0]][goal[1]] != 0:\n",
    "        raise ValueError(\"Invalid start or goal position. They must be on open paths (0).\")\n",
    "    \n",
    "    return start, goal\n",
    "\n",
    "def visualize_maze(maze, path=None):\n",
    "    \"\"\"Visualize the maze and the path found by the algorithm.\"\"\"\n",
    "    maze_array = np.array(maze)\n",
    "    \n",
    "    # Convert the maze to an RGB image\n",
    "    image = np.zeros((maze_array.shape[0], maze_array.shape[1], 3), dtype=np.uint8)\n",
    "    image[maze_array == 1] = [0, 0, 0]  # Black walls\n",
    "    image[maze_array == 0] = [255, 255, 255]  # White paths\n",
    "    \n",
    "    if path:\n",
    "        for position in path:\n",
    "            image[position[0], position[1]] = [255, 0, 0]  # Red path\n",
    "        \n",
    "        image[path[0]] = [0, 255, 0]  # Green start\n",
    "        image[path[-1]] = [0, 0, 255]  # Blue goal\n",
    "    \n",
    "    plt.imshow(image)\n",
    "    plt.axis('off')  # Hide the axes\n",
    "    plt.show()"
   ]
  },
  {
   "cell_type": "code",
   "execution_count": 6,
   "metadata": {},
   "outputs": [],
   "source": [
    "def solve_maze(algorithm):\n",
    "    \"\"\"Solve the maze using the selected algorithm and visualize the result.\"\"\"\n",
    "    maze = get_maze_input()\n",
    "    start, goal = get_start_goal_positions(maze)\n",
    "    \n",
    "    path = algorithm(maze, start, goal)\n",
    "    if path:\n",
    "        print(f\"Path found with {algorithm.__name__}!\")\n",
    "        visualize_maze(maze, path)\n",
    "    else:\n",
    "        print(f\"No path found with {algorithm.__name__}.\")"
   ]
  },
  {
   "cell_type": "code",
   "execution_count": null,
   "metadata": {},
   "outputs": [
    {
     "data": {
      "application/vnd.jupyter.widget-view+json": {
       "model_id": "3dd9fbccbf5b459c9c575aa10efae222",
       "version_major": 2,
       "version_minor": 0
      },
      "text/plain": [
       "Dropdown(description='Algorithm:', options=('DFS', 'BFS', 'UCS', 'A*', 'Best-First Search'), value='DFS')"
      ]
     },
     "metadata": {},
     "output_type": "display_data"
    },
    {
     "data": {
      "application/vnd.jupyter.widget-view+json": {
       "model_id": "8f97b544859041989d99508ea3220163",
       "version_major": 2,
       "version_minor": 0
      },
      "text/plain": [
       "Button(description='Solve Maze', style=ButtonStyle())"
      ]
     },
     "metadata": {},
     "output_type": "display_data"
    },
    {
     "name": "stdout",
     "output_type": "stream",
     "text": [
      "Path found with dfs!\n"
     ]
    },
    {
     "data": {
      "image/png": "[encoded data removed]",
      "text/plain": [
       "<Figure size 640x480 with 1 Axes>"
      ]
     },
     "metadata": {},
     "output_type": "display_data"
    },
    {
     "name": "stdout",
     "output_type": "stream",
     "text": [
      "Path found with bfs!\n"
     ]
    },
    {
     "data": {
      "image/png": "[encoded data removed]",
      "text/plain": [
       "<Figure size 640x480 with 1 Axes>"
      ]
     },
     "metadata": {},
     "output_type": "display_data"
    },
    {
     "name": "stdout",
     "output_type": "stream",
     "text": [
      "Path found with ucs!\n"
     ]
    },
    {
     "data": {
      "image/png": "[encoded data removed]",
      "text/plain": [
       "<Figure size 640x480 with 1 Axes>"
      ]
     },
     "metadata": {},
     "output_type": "display_data"
    },
    {
     "name": "stdout",
     "output_type": "stream",
     "text": [
      "Path found with a_star!\n"
     ]
    },
    {
     "data": {
      "image/png": "[encoded data removed]",
      "text/plain": [
       "<Figure size 640x480 with 1 Axes>"
      ]
     },
     "metadata": {},
     "output_type": "display_data"
    },
    {
     "name": "stdout",
     "output_type": "stream",
     "text": [
      "Path found with best_first_search!\n"
     ]
    },
    {
     "data": {
      "image/png": "[encoded data removed]",
      "text/plain": [
       "<Figure size 640x480 with 1 Axes>"
      ]
     },
     "metadata": {},
     "output_type": "display_data"
    }
   ],
   "source": [
    "def main():\n",
    "    algorithms = {\n",
    "        'DFS': dfs,\n",
    "        'BFS': bfs,\n",
    "        'UCS': ucs,\n",
    "        'A*': a_star,\n",
    "        'Best-First Search': best_first_search\n",
    "    }\n",
    "    \n",
    "    dropdown = widgets.Dropdown(\n",
    "        options=list(algorithms.keys()),\n",
    "        description='Algorithm:',\n",
    "    )\n",
    "    \n",
    "    button = widgets.Button(description=\"Solve Maze\")\n",
    "    \n",
    "    def on_button_clicked(b):\n",
    "        solve_maze(algorithms[dropdown.value])\n",
    "    \n",
    "    button.on_click(on_button_clicked)\n",
    "    \n",
    "    display(dropdown, button)\n",
    "\n",
    "if __name__ == \"__main__\":\n",
    "    main()\n"
   ]
  }
 ],
 "metadata": {
  "kernelspec": {
   "display_name": "Python 3",
   "language": "python",
   "name": "python3"
  },
  "language_info": {
   "codemirror_mode": {
    "name": "ipython",
    "version": 3
   },
   "file_extension": ".py",
   "mimetype": "text/x-python",
   "name": "python",
   "nbconvert_exporter": "python",
   "pygments_lexer": "ipython3",
   "version": "3.12.4"
  }
 },
 "nbformat": 4,
 "nbformat_minor": 2
}
